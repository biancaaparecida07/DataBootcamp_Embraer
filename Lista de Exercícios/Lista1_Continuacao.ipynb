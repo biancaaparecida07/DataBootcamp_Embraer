{
 "cells": [
  {
   "cell_type": "markdown",
   "metadata": {},
   "source": [
    "# Continuação da Lista de Exercícios - Livro: Python - Guia Prático para Iniciantes \n",
    "Autor: Gabriel Schade Cardoso\n",
    "\n",
    "Sugerido pela Marianne Salomão no Data Bootcamp - Embraer Social Tech Careers  \n",
    "\n",
    "Feito em arquivo .ipynb e a solução de cada exercício está por completo em uma célula, sendo assim, o comando de Run deve ser feito em cada célula separadamente para conferir as soluções. \n"
   ]
  },
  {
   "cell_type": "markdown",
   "metadata": {},
   "source": [
    "#### **Modularização de Códigos com Funções** \n",
    "\n",
    "1. Faça um programa que escreva \"Minha primeira função\", esta escrita deve ser realizada a partir da chamada de uma função.\n",
    "2. Faça um programa que solicite o nome do usuário e a idade do usuário, depois disso exiba a mensagem: \"{nome} possui {idade} anos.\". Esta mensagem deve ser escrita em uma função.\n",
    "3. Faça um programa que solicite dois números ao usuário e exiba a multiplicação deles. A multiplicação deve ser calculada em uma função.\n",
    "4. Faça um programa que solicite ao usuário três números diferentes e exiba o dobro do maior número. Para fazer isso separe seu código em duas funções diferentes: Uma função para retornar o maior dos três números e outra função para dobrar o número.\n",
    "5. Faça um programa que inicialize uma lista vazia, depois disso solicite 5 nomes diferentes ao usuário (utilize laço de repetição). Cada nome digitado deve ser adicionado à lista e por fim, todos os nomes devem ser escritos no console. Utilize uma função para solicitar e retornar o nome digitado, uma função para adicionar o nome à lista (passando o nome e a lista por parâmetro) e outra função para escrever todos os nomes no console."
   ]
  },
  {
   "cell_type": "code",
   "execution_count": null,
   "metadata": {},
   "outputs": [],
   "source": [
    "def primeiraFuncao():\n",
    "    print('Minha primeira função')\n",
    "\n",
    "primeiraFuncao()"
   ]
  },
  {
   "cell_type": "code",
   "execution_count": null,
   "metadata": {},
   "outputs": [],
   "source": [
    "nome = input('Digite seu nome:')\n",
    "idade = int(input('Digite sua idade:'))\n",
    "\n",
    "def apresenta(nome, idade):\n",
    "    print(f'{nome} possui {idade} anos.')\n",
    "\n",
    "apresenta(nome, idade)"
   ]
  },
  {
   "cell_type": "code",
   "execution_count": null,
   "metadata": {},
   "outputs": [],
   "source": [
    "a = int(input('Digite um número:'))\n",
    "b = int(input('Digite um número:'))\n",
    "\n",
    "def mult(a,b):\n",
    "    resultado = a*b\n",
    "    return resultado\n",
    "\n",
    "print(mult(a,b))"
   ]
  },
  {
   "cell_type": "code",
   "execution_count": null,
   "metadata": {},
   "outputs": [],
   "source": [
    "lista = []\n",
    "lista.append(int(input('Digite um número:')))\n",
    "lista.append(int(input('Digite um número:')))\n",
    "lista.append(int(input('Digite um número:')))\n",
    "\n",
    "def encontraMaiorNum(lista):\n",
    "    maior = lista[0]\n",
    "    for i in range (0, len(lista)-1):\n",
    "        if lista[i]>maior:\n",
    "            maior = lista[i]\n",
    "    return maior\n",
    "\n",
    "def dobraNumero(numero):\n",
    "    return(numero*2)\n",
    "\n",
    "print(dobraNumero(encontraMaiorNum(lista)))"
   ]
  },
  {
   "cell_type": "code",
   "execution_count": null,
   "metadata": {},
   "outputs": [],
   "source": [
    "def solicitaNome():\n",
    "    return(input('Nome:'))\n",
    "\n",
    "def guardaNome(nome, listaDeNomes):\n",
    "    listaDeNomes.append(nome)\n",
    "\n",
    "def exibeNomes(lista):\n",
    "    for nome in lista:\n",
    "        print(nome)\n",
    "\n",
    "lista = []\n",
    "\n",
    "for i in range (5):\n",
    "    guardaNome(solicitaNome(), lista)\n",
    "\n",
    "exibeNomes(lista)"
   ]
  },
  {
   "cell_type": "markdown",
   "metadata": {},
   "source": [
    "#### **Expressões Lambda** \n",
    "1. Faça um programa que escreva \"Minha primeira função\", esta escrita deve ser realizada a partir da chamada de uma função que foi declarada como uma expressão lambda.\n",
    "2. Faça um programa que solicite o nome do usuário e a idade do usuário, depois disso exiba a mensagem: \"{nome} possui {idade} anos.\". Esta mensagem deve ser escrita em uma função lambda.\n",
    "3. Faça um programa que solicite dois números ao usuário e exiba a multiplicação deles. A multiplicação deve ser calculada em uma função lambda.\n",
    "4. Faça um programa que solicite cinco números ao usuário, depois disso, exiba apenas os números maiores do que 10. Utilize a função filter para fazer isso.\n",
    "5. Faça um programa que solicite dez números ao usuário, depois disso, exiba todos números pares e só então exiba todos os números ímpares. Utilize a função filter para fazer isso."
   ]
  },
  {
   "cell_type": "code",
   "execution_count": null,
   "metadata": {},
   "outputs": [],
   "source": [
    "saudacao = lambda: print('Minha primeira função')\n",
    "saudacao()"
   ]
  },
  {
   "cell_type": "code",
   "execution_count": null,
   "metadata": {},
   "outputs": [],
   "source": [
    "apresentacao = lambda: print(input('Nome:'), 'possui',int(input('Idade:')), 'anos.')\n",
    "apresentacao()"
   ]
  },
  {
   "cell_type": "code",
   "execution_count": null,
   "metadata": {},
   "outputs": [],
   "source": [
    "multiplicacao = lambda: print(int(input('Número:'))*int(input('Número:')))\n",
    "multiplicacao()"
   ]
  },
  {
   "cell_type": "code",
   "execution_count": null,
   "metadata": {},
   "outputs": [],
   "source": [
    "lista = []\n",
    "for i in range (1,6):\n",
    "    lista.append(int(input('Número:')))\n",
    "print (lista)\n",
    "maiorQue10 = filter(lambda valor: valor > 10, lista)\n",
    "for numero in maiorQue10:\n",
    "    print(numero)"
   ]
  },
  {
   "cell_type": "code",
   "execution_count": null,
   "metadata": {},
   "outputs": [],
   "source": [
    "numeros = []\n",
    "for i in range (1,11):\n",
    "    numeros.append(int(input('Número:')))\n",
    "pares = filter(lambda valor: valor % 2 == 0, numeros)\n",
    "impares = filter(lambda valor: valor % 2 != 0, numeros)\n",
    "for par in pares:\n",
    "    print(par)\n",
    "for impar in impares:\n",
    "    print(impar)"
   ]
  }
 ],
 "metadata": {
  "kernelspec": {
   "display_name": "base",
   "language": "python",
   "name": "python3"
  },
  "language_info": {
   "codemirror_mode": {
    "name": "ipython",
    "version": 3
   },
   "file_extension": ".py",
   "mimetype": "text/x-python",
   "name": "python",
   "nbconvert_exporter": "python",
   "pygments_lexer": "ipython3",
   "version": "3.11.5"
  }
 },
 "nbformat": 4,
 "nbformat_minor": 2
}
