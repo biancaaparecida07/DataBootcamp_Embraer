{
 "cells": [
  {
   "cell_type": "markdown",
   "metadata": {},
   "source": [
    "NUMPY: estatísticas, matrizes e vetores  \n",
    "Auxilia nos calculos, dimensões de matrizes, sub matrizes, muito de álgebra linear  \n",
    "\n",
    "NumPy é uma biblioteca do Python que fornece uma funcionalidade comparável a ferramentas matemáticas como MATLAB e R. Embora NumPy simplifique significativamente a experiência do usuário, também proporciona funções matemáticas abrangentes."
   ]
  },
  {
   "cell_type": "code",
   "execution_count": 1,
   "metadata": {},
   "outputs": [],
   "source": [
    "import numpy as np"
   ]
  },
  {
   "cell_type": "code",
   "execution_count": null,
   "metadata": {},
   "outputs": [],
   "source": [
    "#Criar uma matriz unidimensional\n",
    "matriz = np.array([10,24,54,78,31])\n",
    "matriz2 = np.array([19,25,57,68,31])\n",
    "matriz"
   ]
  },
  {
   "cell_type": "code",
   "execution_count": null,
   "metadata": {},
   "outputs": [],
   "source": [
    "type(matriz)"
   ]
  },
  {
   "cell_type": "markdown",
   "metadata": {},
   "source": [
    "Imprimindo a matriz"
   ]
  },
  {
   "cell_type": "code",
   "execution_count": null,
   "metadata": {},
   "outputs": [],
   "source": [
    "print(matriz)"
   ]
  },
  {
   "cell_type": "code",
   "execution_count": null,
   "metadata": {},
   "outputs": [],
   "source": [
    "print(\"{}\".format(matriz))"
   ]
  },
  {
   "cell_type": "code",
   "execution_count": null,
   "metadata": {},
   "outputs": [],
   "source": [
    "# Mostrando o valor de uma posição\n",
    "print(\"{}\".format(3))\n",
    "\n",
    "# Mostrando o valor de um intervalo de posições, sendo que o índice de início inclui e o final não inclui. \n",
    "print(\"{}\".format(matriz[0:4]))"
   ]
  },
  {
   "cell_type": "code",
   "execution_count": null,
   "metadata": {},
   "outputs": [],
   "source": [
    "#Tamanho da matriz\n",
    "print(matriz.shape) # Retorna em numero de linhas e colunas... nesse caso: (5,) unidimensional com 5 colunas e nenhuma linha"
   ]
  },
  {
   "cell_type": "code",
   "execution_count": null,
   "metadata": {},
   "outputs": [],
   "source": [
    "matrizBidimensional = np.array([[1,2,3,4,5,6], [7,8,9,10,11,12]])\n",
    "print(matrizBidimensional)\n",
    "print(matrizBidimensional.shape)"
   ]
  },
  {
   "cell_type": "code",
   "execution_count": null,
   "metadata": {},
   "outputs": [],
   "source": [
    "# Transpor uma matriz\n",
    "a = matrizBidimensional.T\n",
    "print(a)\n",
    "a.shape"
   ]
  },
  {
   "cell_type": "code",
   "execution_count": null,
   "metadata": {},
   "outputs": [],
   "source": [
    "#Acessar índices da matriz bidimensional\n",
    "matrizBidimensional[1,3] # ou matrizBidimensional[1][3]"
   ]
  },
  {
   "cell_type": "code",
   "execution_count": null,
   "metadata": {},
   "outputs": [],
   "source": [
    "# Criar uma submatriz\n",
    "\n",
    "subMatrizBid = matrizBidimensional[0:2, 0:3]\n",
    "print(subMatrizBid)\n",
    "print(\"{}\".format(subMatrizBid))"
   ]
  },
  {
   "cell_type": "code",
   "execution_count": null,
   "metadata": {},
   "outputs": [],
   "source": [
    "# Modificar elementos das Matrizes\n",
    "matrizBidimensional[1,1] = 11\n",
    "\n",
    "print(\"{}\".format(matrizBidimensional))"
   ]
  },
  {
   "cell_type": "code",
   "execution_count": null,
   "metadata": {},
   "outputs": [],
   "source": [
    "# Transformar matriz de números inteiros para números reais\n",
    "#Basta que um elemento seja real que os outros se adequam a ele. \n",
    "\n",
    "matrizReal = np.array([[1,2,3.1,4,5], [1000, 12,32111,788,1999]])\n",
    "print(\"{}\".format(matrizReal))"
   ]
  },
  {
   "cell_type": "code",
   "execution_count": null,
   "metadata": {},
   "outputs": [],
   "source": [
    "# Matriz identidade\n",
    "I = np.eye(4)\n",
    "print(\"{}\".format(I))"
   ]
  }
 ],
 "metadata": {
  "kernelspec": {
   "display_name": "base",
   "language": "python",
   "name": "python3"
  },
  "language_info": {
   "codemirror_mode": {
    "name": "ipython",
    "version": 3
   },
   "file_extension": ".py",
   "mimetype": "text/x-python",
   "name": "python",
   "nbconvert_exporter": "python",
   "pygments_lexer": "ipython3",
   "version": "3.11.5"
  }
 },
 "nbformat": 4,
 "nbformat_minor": 2
}
