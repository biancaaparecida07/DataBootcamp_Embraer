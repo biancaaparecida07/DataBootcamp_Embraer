{
 "cells": [
  {
   "cell_type": "code",
   "execution_count": 7,
   "metadata": {},
   "outputs": [],
   "source": [
    "import pandas as pd "
   ]
  },
  {
   "cell_type": "code",
   "execution_count": 5,
   "metadata": {},
   "outputs": [],
   "source": [
    "import requests\n",
    "from io import StringIO"
   ]
  },
  {
   "cell_type": "code",
   "execution_count": 3,
   "metadata": {},
   "outputs": [],
   "source": [
    "url = 'https://raw.githubusercontent.com/escola-de-dados/notebooks-python-pandas/master/mlb.csv'"
   ]
  },
  {
   "cell_type": "markdown",
   "metadata": {},
   "source": [
    "Lendo um arquivo .CSV e armazenando/transformando em um DataFrame"
   ]
  },
  {
   "cell_type": "code",
   "execution_count": null,
   "metadata": {},
   "outputs": [],
   "source": [
    "try:\n",
    "    response = requests.get(url)\n",
    "    response.raise_for_status() #Lança uma exceção/erro em caso de erro http\n",
    "\n",
    "    #Usar StringIO para ler os dados como se fossem de um arquivo. \n",
    "    df = pd.read_csv(StringIO(response.text))\n",
    "\n",
    "    # Exibir as primeiras linhas/registros do DataFrame\n",
    "    print('Primeiras linhas do DataFrame:')\n",
    "    print(df.head()) #exibe os primeiros 5 regitros\n",
    "except requests.exceptions.RequestException as e: \n",
    "    print(f'Erro ao ler o arquivo .csv: {e}')"
   ]
  },
  {
   "cell_type": "code",
   "execution_count": null,
   "metadata": {},
   "outputs": [],
   "source": [
    "df.describe() #Retorna algumas estatísticas"
   ]
  },
  {
   "cell_type": "code",
   "execution_count": null,
   "metadata": {},
   "outputs": [],
   "source": [
    "df.tail() #últimas linhas, possibilitando saber quantos registros. "
   ]
  },
  {
   "cell_type": "code",
   "execution_count": null,
   "metadata": {},
   "outputs": [],
   "source": [
    "df.sample(7) #Retorna linhas aleatórias, nesse caso, 7 registros"
   ]
  },
  {
   "cell_type": "code",
   "execution_count": null,
   "metadata": {},
   "outputs": [],
   "source": [
    "df.shape #não é função... exibe a quantidade de linhas e colunas"
   ]
  },
  {
   "cell_type": "code",
   "execution_count": null,
   "metadata": {},
   "outputs": [],
   "source": [
    "df.dtypes #nome das colunas e tipo de dados"
   ]
  },
  {
   "cell_type": "markdown",
   "metadata": {},
   "source": [
    "Ordenando os dados"
   ]
  },
  {
   "cell_type": "code",
   "execution_count": null,
   "metadata": {},
   "outputs": [],
   "source": [
    "df.sort_values('SALARY') #exibe os 5 primeiros e os 5  últimos sem filtro algum"
   ]
  },
  {
   "cell_type": "code",
   "execution_count": null,
   "metadata": {},
   "outputs": [],
   "source": [
    "df.sort_values('SALARY', ascending=False) #Filtrando por salário, exibindo os 5 primeiros e os 5 últimos sendo que o filtro foi pelo salário do maior para o menor."
   ]
  },
  {
   "cell_type": "code",
   "execution_count": null,
   "metadata": {},
   "outputs": [],
   "source": [
    "df.sort_values('SALARY', ascending=False).head() #Exibe, com filtro de salário, apenas os 5 primeiros com o uso do head. "
   ]
  },
  {
   "cell_type": "code",
   "execution_count": null,
   "metadata": {},
   "outputs": [],
   "source": [
    "df[df.SALARY > 100000000]\n",
    "\n",
    "# select * from tabelaTime where SALARY> 100000000"
   ]
  },
  {
   "cell_type": "code",
   "execution_count": null,
   "metadata": {},
   "outputs": [],
   "source": [
    "df.sort_values(['SALARY', 'END_YEAR'], ascending=[False, True]).head(10)\n",
    "#Filtro por mais de um parâmetro, por salário e por time, sendo q o salario é pra ordenar do maior pro menor e o ano final em ordem crescente.\n",
    "#Porém o salário, que vem primeiro, é mandatório. Se tivermos 2 salários iguais, virá primeiro o de menor ano devido o filtro pedir ordem crescente de ano."
   ]
  },
  {
   "cell_type": "markdown",
   "metadata": {},
   "source": [
    "Ordenar o DataFrame df pela coluna NAME  \n",
    "Ordenar o DataFrame df pela coluna Pos de Modo descendente  \n",
    "Ordenar o DataFrame df pela coluna Salario de modo dscendente e coluna POS de modo ascendente. Salve em uma variável chamada ordenacaoPorSalarioPos  "
   ]
  },
  {
   "cell_type": "code",
   "execution_count": null,
   "metadata": {},
   "outputs": [],
   "source": [
    "df.sort_values('NAME')"
   ]
  },
  {
   "cell_type": "code",
   "execution_count": null,
   "metadata": {},
   "outputs": [],
   "source": [
    "df.sort_values('POS', ascending=False)"
   ]
  },
  {
   "cell_type": "code",
   "execution_count": null,
   "metadata": {},
   "outputs": [],
   "source": [
    "ordenacaoPorSalarioPos = df.sort_values(['SALARY','POS'], ascending=[False, True])\n",
    "ordenacaoPorSalarioPos"
   ]
  },
  {
   "cell_type": "markdown",
   "metadata": {},
   "source": [
    "Filtros"
   ]
  },
  {
   "cell_type": "code",
   "execution_count": null,
   "metadata": {},
   "outputs": [],
   "source": [
    "#Filtros de Coluna: Retorna uma ou mais colunas específicas. É semelhante ao SELECT do SQL\n",
    "#Filtros de Linha: Retorna um recorte dos dados que atendam os critérios que você especificou. É semelhante ao WHERE do SQL\n",
    "#Exemplo: Mostre todos os dados no Dataframe onde os valores da coluna de TEAM sejam iguais a TEX.\n"
   ]
  },
  {
   "cell_type": "code",
   "execution_count": null,
   "metadata": {},
   "outputs": [],
   "source": [
    "#Salário por Time\n",
    "#Quero todos os valores de TEAM\n",
    "\n",
    "df.TEAM # df.TEAM = df['TEAM']\n",
    "\n",
    "#df.SALARIO POR TIME - Isso não funciona porque são palavras separadas\n",
    "# df['SALARIO POR TIME'] #Isso funciona se a coluna tivesse o nome 'SALARIO POR TIME'"
   ]
  },
  {
   "cell_type": "code",
   "execution_count": null,
   "metadata": {},
   "outputs": [],
   "source": [
    "df.TEAM.unique() # todos os times distintos. Retorna um ARRAY com todos os times"
   ]
  },
  {
   "cell_type": "code",
   "execution_count": null,
   "metadata": {},
   "outputs": [],
   "source": [
    "df.TEAM.value_counts() #Retorna a quantidade por cada TEAM, quantas vezes ele se repete"
   ]
  },
  {
   "cell_type": "code",
   "execution_count": null,
   "metadata": {},
   "outputs": [],
   "source": [
    "df.SALARY.min() # Traz o menor valor da coluna específicada"
   ]
  },
  {
   "cell_type": "code",
   "execution_count": null,
   "metadata": {},
   "outputs": [],
   "source": [
    "df.SALARY.max() # máximo"
   ]
  },
  {
   "cell_type": "code",
   "execution_count": null,
   "metadata": {},
   "outputs": [],
   "source": [
    "df.SALARY.median() #medianda"
   ]
  },
  {
   "cell_type": "code",
   "execution_count": null,
   "metadata": {},
   "outputs": [],
   "source": [
    "df.SALARY.mean() #média"
   ]
  },
  {
   "cell_type": "code",
   "execution_count": null,
   "metadata": {},
   "outputs": [],
   "source": [
    "df.SALARY.mode() #valor mais comum"
   ]
  },
  {
   "cell_type": "code",
   "execution_count": null,
   "metadata": {},
   "outputs": [],
   "source": [
    "colunasFiltradas = ['TEAM', 'SALARY'] #Lista das colunas desejadas\n",
    "df[colunasFiltradas] #Filtra apenas as colunas da lista"
   ]
  },
  {
   "cell_type": "code",
   "execution_count": null,
   "metadata": {},
   "outputs": [],
   "source": [
    "df[df.SALARY>10000000]"
   ]
  },
  {
   "cell_type": "markdown",
   "metadata": {},
   "source": [
    "FILTROS COM MUITAS CONDIÇÕES"
   ]
  },
  {
   "cell_type": "code",
   "execution_count": null,
   "metadata": {},
   "outputs": [],
   "source": [
    "# Filtrar só quem joga no time BOS\n",
    "bosTeam = df[df.TEAM == 'BOS']\n",
    "\n",
    "#Do time BOS, filtrar quem recebe mais que 10000000\n",
    "salariosMaiores = bosTeam[bosTeam.SALARY >10000000]\n",
    "salariosMaiores"
   ]
  },
  {
   "cell_type": "markdown",
   "metadata": {},
   "source": [
    "Exercícios"
   ]
  },
  {
   "cell_type": "code",
   "execution_count": null,
   "metadata": {},
   "outputs": [],
   "source": [
    "# Filtro de Coluna: Selecione/Filtre a coluna NAME\n",
    "df.NAME"
   ]
  },
  {
   "cell_type": "code",
   "execution_count": null,
   "metadata": {},
   "outputs": [],
   "source": [
    "# Filtro de Coluna: selecione as colunas NAME e TEAM\n",
    "Colunas = ['NAME', 'TEAM']\n",
    "df[Colunas]"
   ]
  },
  {
   "cell_type": "code",
   "execution_count": null,
   "metadata": {},
   "outputs": [],
   "source": [
    "# Filtro de Linha: Filtre as linhas e traga como resultado apenas os que jogam no time DET, que tem salários a partir de 750000\n",
    "jogadoresDET = df[df.TEAM == 'DET']\n",
    "salariosMaiores = jogadoresDET[jogadoresDET.SALARY >750000]\n",
    "salariosMaiores"
   ]
  }
 ],
 "metadata": {
  "kernelspec": {
   "display_name": "base",
   "language": "python",
   "name": "python3"
  },
  "language_info": {
   "codemirror_mode": {
    "name": "ipython",
    "version": 3
   },
   "file_extension": ".py",
   "mimetype": "text/x-python",
   "name": "python",
   "nbconvert_exporter": "python",
   "pygments_lexer": "ipython3",
   "version": "3.11.5"
  }
 },
 "nbformat": 4,
 "nbformat_minor": 2
}
