{
 "cells": [
  {
   "cell_type": "code",
   "execution_count": 5,
   "metadata": {},
   "outputs": [],
   "source": [
    "import pandas as pd "
   ]
  },
  {
   "cell_type": "code",
   "execution_count": 3,
   "metadata": {},
   "outputs": [],
   "source": [
    "import requests\n",
    "from io import StringIO"
   ]
  },
  {
   "cell_type": "code",
   "execution_count": 2,
   "metadata": {},
   "outputs": [],
   "source": [
    "url = 'https://raw.githubusercontent.com/escola-de-dados/notebooks-python-pandas/master/mlb.csv'"
   ]
  },
  {
   "cell_type": "markdown",
   "metadata": {},
   "source": [
    "Lendo um arquivo .CSV e armazenando/transformando em um DataFrame"
   ]
  },
  {
   "cell_type": "code",
   "execution_count": 6,
   "metadata": {},
   "outputs": [
    {
     "name": "stdout",
     "output_type": "stream",
     "text": [
      "Primeiras linhas do DataFrame:\n",
      "               NAME TEAM POS    SALARY  START_YEAR  END_YEAR  YEARS\n",
      "0   Clayton Kershaw  LAD  SP  33000000        2014      2020      7\n",
      "1      Zack Greinke  ARI  SP  31876966        2016      2021      6\n",
      "2       David Price  BOS  SP  30000000        2016      2022      7\n",
      "3    Miguel Cabrera  DET  1B  28000000        2014      2023     10\n",
      "4  Justin Verlander  DET  SP  28000000        2013      2019      7\n"
     ]
    }
   ],
   "source": [
    "try:\n",
    "    response = requests.get(url)\n",
    "    response.raise_for_status() #Lança uma exceção/erro em caso de erro http\n",
    "\n",
    "    #Usar StringIO para ler os dados como se fossem de um arquivo. \n",
    "    df = pd.read_csv(StringIO(response.text))\n",
    "\n",
    "    # Exibir as primeiras linhas/registros do DataFrame\n",
    "    print('Primeiras linhas do DataFrame:')\n",
    "    print(df.head()) #exibe os primeiros 5 regitros\n",
    "except requests.exceptions.RequestException as e: \n",
    "    print(f'Erro ao ler o arquivo .csv: {e}')"
   ]
  },
  {
   "cell_type": "code",
   "execution_count": null,
   "metadata": {},
   "outputs": [],
   "source": [
    "df.describe() #Retorna algumas estatísticas"
   ]
  },
  {
   "cell_type": "code",
   "execution_count": null,
   "metadata": {},
   "outputs": [],
   "source": [
    "df.tail() #últimas linhas, possibilitando saber quantos registros. "
   ]
  },
  {
   "cell_type": "code",
   "execution_count": null,
   "metadata": {},
   "outputs": [],
   "source": [
    "df.sample(7) #Retorna linhas aleatórias, nesse caso, 7 registros"
   ]
  },
  {
   "cell_type": "code",
   "execution_count": null,
   "metadata": {},
   "outputs": [],
   "source": [
    "df.shape #não é função... exibe a quantidade de linhas e colunas"
   ]
  },
  {
   "cell_type": "code",
   "execution_count": null,
   "metadata": {},
   "outputs": [],
   "source": [
    "df.dtypes #nome das colunas e tipo de dados"
   ]
  },
  {
   "cell_type": "markdown",
   "metadata": {},
   "source": [
    "Ordenando os dados"
   ]
  },
  {
   "cell_type": "code",
   "execution_count": null,
   "metadata": {},
   "outputs": [],
   "source": [
    "df.sort_values('SALARY') #exibe os 5 primeiros e os 5  últimos sem filtro algum"
   ]
  },
  {
   "cell_type": "code",
   "execution_count": null,
   "metadata": {},
   "outputs": [],
   "source": [
    "df.sort_values('SALARY', ascending=False) #Filtrando por salário, exibindo os 5 primeiros e os 5 últimos sendo que o filtro foi pelo salário do maior para o menor."
   ]
  },
  {
   "cell_type": "code",
   "execution_count": null,
   "metadata": {},
   "outputs": [],
   "source": [
    "df.sort_values('SALARY', ascending=False).head() #Exibe, com filtro de salário, apenas os 5 primeiros com o uso do head. "
   ]
  },
  {
   "cell_type": "code",
   "execution_count": null,
   "metadata": {},
   "outputs": [],
   "source": [
    "df[df.SALARY > 100000000]\n",
    "\n",
    "# select * from tabelaTime where SALARY> 100000000"
   ]
  },
  {
   "cell_type": "code",
   "execution_count": null,
   "metadata": {},
   "outputs": [],
   "source": [
    "df.sort_values(['SALARY', 'END_YEAR'], ascending=[False, True]).head(10)\n",
    "#Filtro por mais de um parâmetro, por salário e por time, sendo q o salario é pra ordenar do maior pro menor e o ano final em ordem crescente.\n",
    "#Porém o salário, que vem primeiro, é mandatório. Se tivermos 2 salários iguais, virá primeiro o de menor ano devido o filtro pedir ordem crescente de ano."
   ]
  },
  {
   "cell_type": "markdown",
   "metadata": {},
   "source": [
    "Ordenar o DataFrame df pela coluna NAME  \n",
    "Ordenar o DataFrame df pela coluna Pos de Modo descendente  \n",
    "Ordenar o DataFrame df pela coluna Salario de modo dscendente e coluna POS de modo ascendente. Salve em uma variável chamada ordenacaoPorSalarioPos  "
   ]
  },
  {
   "cell_type": "code",
   "execution_count": null,
   "metadata": {},
   "outputs": [],
   "source": [
    "df.sort_values('NAME')"
   ]
  },
  {
   "cell_type": "code",
   "execution_count": null,
   "metadata": {},
   "outputs": [],
   "source": [
    "df.sort_values('POS', ascending=False)"
   ]
  },
  {
   "cell_type": "code",
   "execution_count": null,
   "metadata": {},
   "outputs": [],
   "source": [
    "ordenacaoPorSalarioPos = df.sort_values(['SALARY','POS'], ascending=[False, True])\n",
    "ordenacaoPorSalarioPos"
   ]
  },
  {
   "cell_type": "markdown",
   "metadata": {},
   "source": [
    "Filtros"
   ]
  },
  {
   "cell_type": "code",
   "execution_count": null,
   "metadata": {},
   "outputs": [],
   "source": [
    "#Filtros de Coluna: Retorna uma ou mais colunas específicas. É semelhante ao SELECT do SQL\n",
    "#Filtros de Linha: Retorna um recorte dos dados que atendam os critérios que você especificou. É semelhante ao WHERE do SQL\n",
    "#Exemplo: Mostre todos os dados no Dataframe onde os valores da coluna de TEAM sejam iguais a TEX.\n"
   ]
  },
  {
   "cell_type": "code",
   "execution_count": null,
   "metadata": {},
   "outputs": [],
   "source": [
    "#Salário por Time\n",
    "#Quero todos os valores de TEAM\n",
    "\n",
    "df.TEAM # df.TEAM = df['TEAM']\n",
    "\n",
    "#df.SALARIO POR TIME - Isso não funciona porque são palavras separadas\n",
    "# df['SALARIO POR TIME'] #Isso funciona se a coluna tivesse o nome 'SALARIO POR TIME'"
   ]
  },
  {
   "cell_type": "code",
   "execution_count": null,
   "metadata": {},
   "outputs": [],
   "source": [
    "df.TEAM.unique() # todos os times distintos. Retorna um ARRAY com todos os times"
   ]
  },
  {
   "cell_type": "code",
   "execution_count": null,
   "metadata": {},
   "outputs": [],
   "source": [
    "df.TEAM.value_counts() #Retorna a quantidade por cada TEAM, quantas vezes ele se repete"
   ]
  },
  {
   "cell_type": "code",
   "execution_count": null,
   "metadata": {},
   "outputs": [],
   "source": [
    "df.SALARY.min() # Traz o menor valor da coluna específicada"
   ]
  },
  {
   "cell_type": "code",
   "execution_count": null,
   "metadata": {},
   "outputs": [],
   "source": [
    "df.SALARY.max() # máximo"
   ]
  },
  {
   "cell_type": "code",
   "execution_count": null,
   "metadata": {},
   "outputs": [],
   "source": [
    "df.SALARY.median() #medianda"
   ]
  },
  {
   "cell_type": "code",
   "execution_count": null,
   "metadata": {},
   "outputs": [],
   "source": [
    "df.SALARY.mean() #média"
   ]
  },
  {
   "cell_type": "code",
   "execution_count": null,
   "metadata": {},
   "outputs": [],
   "source": [
    "df.SALARY.mode() #valor mais comum"
   ]
  },
  {
   "cell_type": "code",
   "execution_count": null,
   "metadata": {},
   "outputs": [],
   "source": [
    "colunasFiltradas = ['TEAM', 'SALARY'] #Lista das colunas desejadas\n",
    "df[colunasFiltradas] #Filtra apenas as colunas da lista"
   ]
  },
  {
   "cell_type": "code",
   "execution_count": null,
   "metadata": {},
   "outputs": [],
   "source": [
    "df[df.SALARY>10000000]"
   ]
  },
  {
   "cell_type": "markdown",
   "metadata": {},
   "source": [
    "FILTROS COM MUITAS CONDIÇÕES"
   ]
  },
  {
   "cell_type": "code",
   "execution_count": null,
   "metadata": {},
   "outputs": [],
   "source": [
    "# Filtrar só quem joga no time BOS\n",
    "bosTeam = df[df.TEAM == 'BOS']\n",
    "\n",
    "#Do time BOS, filtrar quem recebe mais que 10000000\n",
    "salariosMaiores = bosTeam[bosTeam.SALARY >10000000]\n",
    "salariosMaiores"
   ]
  },
  {
   "cell_type": "markdown",
   "metadata": {},
   "source": [
    "Exercícios"
   ]
  },
  {
   "cell_type": "code",
   "execution_count": null,
   "metadata": {},
   "outputs": [],
   "source": [
    "# Filtro de Coluna: Selecione/Filtre a coluna NAME\n",
    "df.NAME"
   ]
  },
  {
   "cell_type": "code",
   "execution_count": null,
   "metadata": {},
   "outputs": [],
   "source": [
    "# Filtro de Coluna: selecione as colunas NAME e TEAM\n",
    "Colunas = ['NAME', 'TEAM']\n",
    "df[Colunas]"
   ]
  },
  {
   "cell_type": "code",
   "execution_count": null,
   "metadata": {},
   "outputs": [],
   "source": [
    "# Filtro de Linha: Filtre as linhas e traga como resultado apenas os que jogam no time DET, que tem salários a partir de 750000\n",
    "jogadoresDET = df[df.TEAM == 'DET']\n",
    "salariosMaiores = jogadoresDET[jogadoresDET.SALARY >750000]\n",
    "salariosMaiores"
   ]
  },
  {
   "cell_type": "code",
   "execution_count": 8,
   "metadata": {},
   "outputs": [
    {
     "data": {
      "text/html": [
       "<div>\n",
       "<style scoped>\n",
       "    .dataframe tbody tr th:only-of-type {\n",
       "        vertical-align: middle;\n",
       "    }\n",
       "\n",
       "    .dataframe tbody tr th {\n",
       "        vertical-align: top;\n",
       "    }\n",
       "\n",
       "    .dataframe thead th {\n",
       "        text-align: right;\n",
       "    }\n",
       "</style>\n",
       "<table border=\"1\" class=\"dataframe\">\n",
       "  <thead>\n",
       "    <tr style=\"text-align: right;\">\n",
       "      <th></th>\n",
       "      <th>NAME</th>\n",
       "      <th>TEAM</th>\n",
       "      <th>POS</th>\n",
       "      <th>SALARY</th>\n",
       "      <th>START_YEAR</th>\n",
       "      <th>END_YEAR</th>\n",
       "      <th>YEARS</th>\n",
       "    </tr>\n",
       "  </thead>\n",
       "  <tbody>\n",
       "    <tr>\n",
       "      <th>3</th>\n",
       "      <td>Miguel Cabrera</td>\n",
       "      <td>DET</td>\n",
       "      <td>1B</td>\n",
       "      <td>28000000</td>\n",
       "      <td>2014</td>\n",
       "      <td>2023</td>\n",
       "      <td>10</td>\n",
       "    </tr>\n",
       "    <tr>\n",
       "      <th>4</th>\n",
       "      <td>Justin Verlander</td>\n",
       "      <td>DET</td>\n",
       "      <td>SP</td>\n",
       "      <td>28000000</td>\n",
       "      <td>2013</td>\n",
       "      <td>2019</td>\n",
       "      <td>7</td>\n",
       "    </tr>\n",
       "    <tr>\n",
       "      <th>20</th>\n",
       "      <td>Justin Upton</td>\n",
       "      <td>DET</td>\n",
       "      <td>LF</td>\n",
       "      <td>22125000</td>\n",
       "      <td>2016</td>\n",
       "      <td>2021</td>\n",
       "      <td>6</td>\n",
       "    </tr>\n",
       "  </tbody>\n",
       "</table>\n",
       "</div>"
      ],
      "text/plain": [
       "                NAME TEAM POS    SALARY  START_YEAR  END_YEAR  YEARS\n",
       "3     Miguel Cabrera  DET  1B  28000000        2014      2023     10\n",
       "4   Justin Verlander  DET  SP  28000000        2013      2019      7\n",
       "20      Justin Upton  DET  LF  22125000        2016      2021      6"
      ]
     },
     "execution_count": 8,
     "metadata": {},
     "output_type": "execute_result"
    }
   ],
   "source": [
    "filtro = (df['TEAM'] == 'DET') & (df['SALARY'] >= 750000) & (df['YEARS'] > 5)\n",
    "resultado = df[filtro]\n",
    "resultado"
   ]
  },
  {
   "cell_type": "markdown",
   "metadata": {},
   "source": [
    "Agrupar e Agregar dados "
   ]
  },
  {
   "cell_type": "code",
   "execution_count": null,
   "metadata": {},
   "outputs": [],
   "source": [
    "#Quero saber os times com top 10 salários"
   ]
  },
  {
   "cell_type": "code",
   "execution_count": 9,
   "metadata": {},
   "outputs": [
    {
     "data": {
      "text/plain": [
       "<pandas.core.groupby.generic.DataFrameGroupBy object at 0x0000023BF9162890>"
      ]
     },
     "execution_count": 9,
     "metadata": {},
     "output_type": "execute_result"
    }
   ],
   "source": [
    "df.groupby('TEAM') # Ainda não é o que precisa"
   ]
  },
  {
   "cell_type": "code",
   "execution_count": 13,
   "metadata": {},
   "outputs": [
    {
     "data": {
      "text/html": [
       "<div>\n",
       "<style scoped>\n",
       "    .dataframe tbody tr th:only-of-type {\n",
       "        vertical-align: middle;\n",
       "    }\n",
       "\n",
       "    .dataframe tbody tr th {\n",
       "        vertical-align: top;\n",
       "    }\n",
       "\n",
       "    .dataframe thead th {\n",
       "        text-align: right;\n",
       "    }\n",
       "</style>\n",
       "<table border=\"1\" class=\"dataframe\">\n",
       "  <thead>\n",
       "    <tr style=\"text-align: right;\">\n",
       "      <th></th>\n",
       "      <th>NAME</th>\n",
       "      <th>POS</th>\n",
       "      <th>SALARY</th>\n",
       "      <th>START_YEAR</th>\n",
       "      <th>END_YEAR</th>\n",
       "      <th>YEARS</th>\n",
       "    </tr>\n",
       "    <tr>\n",
       "      <th>TEAM</th>\n",
       "      <th></th>\n",
       "      <th></th>\n",
       "      <th></th>\n",
       "      <th></th>\n",
       "      <th></th>\n",
       "      <th></th>\n",
       "    </tr>\n",
       "  </thead>\n",
       "  <tbody>\n",
       "    <tr>\n",
       "      <th>LAD</th>\n",
       "      <td>Clayton KershawAdrian GonzalezAndre EthierScot...</td>\n",
       "      <td>SP1BLFSP3BSPSPRPRFSP2BCSPRPRPLF2BRPLFRPSSLFCFR...</td>\n",
       "      <td>187989811</td>\n",
       "      <td>62501</td>\n",
       "      <td>62550</td>\n",
       "      <td>80</td>\n",
       "    </tr>\n",
       "    <tr>\n",
       "      <th>DET</th>\n",
       "      <td>Miguel CabreraJustin VerlanderJustin UptonJord...</td>\n",
       "      <td>1BSPLFSPDHSPRF2BRPSS3BRPC3BRPRPCSPRPRPSPLFSPCF...</td>\n",
       "      <td>180250600</td>\n",
       "      <td>52420</td>\n",
       "      <td>52457</td>\n",
       "      <td>63</td>\n",
       "    </tr>\n",
       "    <tr>\n",
       "      <th>TEX</th>\n",
       "      <td>Prince FielderCole HamelsShin-Soo ChooAdrian B...</td>\n",
       "      <td>DHSPRF3BSSCFSPSP1BSPCSPRPRPRPSPCRP2B2BRPRFRPRP...</td>\n",
       "      <td>178431396</td>\n",
       "      <td>68555</td>\n",
       "      <td>68593</td>\n",
       "      <td>72</td>\n",
       "    </tr>\n",
       "    <tr>\n",
       "      <th>SF</th>\n",
       "      <td>Johnny CuetoBuster PoseyMatt CainJeff Samardzi...</td>\n",
       "      <td>SPCSPSPRFSPCFRPSSSPSS1BRP2BCRP3BRPRP1B2BRPRPCR...</td>\n",
       "      <td>176531278</td>\n",
       "      <td>56451</td>\n",
       "      <td>56499</td>\n",
       "      <td>76</td>\n",
       "    </tr>\n",
       "    <tr>\n",
       "      <th>NYM</th>\n",
       "      <td>Yoenis CespedesJose ReyesDavid WrightNeil Walk...</td>\n",
       "      <td>CF3B3B2BCFOFSSRPRP1BRPSPCFSPRPSSCCSPRPSPSPLFRP...</td>\n",
       "      <td>176284679</td>\n",
       "      <td>62511</td>\n",
       "      <td>62534</td>\n",
       "      <td>54</td>\n",
       "    </tr>\n",
       "    <tr>\n",
       "      <th>BOS</th>\n",
       "      <td>David PriceHanley RamirezRick PorcelloPablo Sa...</td>\n",
       "      <td>SP1BSP3B2BRPSPLF1BSSSPCFRPRPRPLFRPCRF2BSPSPSPR...</td>\n",
       "      <td>174287098</td>\n",
       "      <td>62510</td>\n",
       "      <td>62541</td>\n",
       "      <td>62</td>\n",
       "    </tr>\n",
       "    <tr>\n",
       "      <th>NYY</th>\n",
       "      <td>CC SabathiaMasahiro TanakaJacoby EllsburyArold...</td>\n",
       "      <td>SPSPCFRP3BLFLF2BSPRPSS1BRPRPCFRPCSSSSCRPSPSP1B...</td>\n",
       "      <td>170389199</td>\n",
       "      <td>54439</td>\n",
       "      <td>54472</td>\n",
       "      <td>60</td>\n",
       "    </tr>\n",
       "    <tr>\n",
       "      <th>CHC</th>\n",
       "      <td>Jason HeywardJon LesterBen ZobristJohn LackeyJ...</td>\n",
       "      <td>RFSP2BSPSPCPCF1BRPRPRPSPRPRP3BSPSSSS2BSPLFRPCCFCF</td>\n",
       "      <td>170088502</td>\n",
       "      <td>52429</td>\n",
       "      <td>52456</td>\n",
       "      <td>53</td>\n",
       "    </tr>\n",
       "    <tr>\n",
       "      <th>WSH</th>\n",
       "      <td>Max ScherzerJayson WerthStephen StrasburgRyan ...</td>\n",
       "      <td>SPLFSP1BRFSP2BC3BRPSPCFRPRP2B1BCLFRPCFCFRPRPRP...</td>\n",
       "      <td>162742157</td>\n",
       "      <td>52421</td>\n",
       "      <td>52457</td>\n",
       "      <td>62</td>\n",
       "    </tr>\n",
       "    <tr>\n",
       "      <th>TOR</th>\n",
       "      <td>Troy TulowitzkiRussell MartinJose BautistaJosh...</td>\n",
       "      <td>SSCRF3BSPSPSPDH1B1BSPRPRPRP2BCLFRPCFRPRP2B2BRP...</td>\n",
       "      <td>162353367</td>\n",
       "      <td>58478</td>\n",
       "      <td>58499</td>\n",
       "      <td>50</td>\n",
       "    </tr>\n",
       "  </tbody>\n",
       "</table>\n",
       "</div>"
      ],
      "text/plain": [
       "                                                   NAME  \\\n",
       "TEAM                                                      \n",
       "LAD   Clayton KershawAdrian GonzalezAndre EthierScot...   \n",
       "DET   Miguel CabreraJustin VerlanderJustin UptonJord...   \n",
       "TEX   Prince FielderCole HamelsShin-Soo ChooAdrian B...   \n",
       "SF    Johnny CuetoBuster PoseyMatt CainJeff Samardzi...   \n",
       "NYM   Yoenis CespedesJose ReyesDavid WrightNeil Walk...   \n",
       "BOS   David PriceHanley RamirezRick PorcelloPablo Sa...   \n",
       "NYY   CC SabathiaMasahiro TanakaJacoby EllsburyArold...   \n",
       "CHC   Jason HeywardJon LesterBen ZobristJohn LackeyJ...   \n",
       "WSH   Max ScherzerJayson WerthStephen StrasburgRyan ...   \n",
       "TOR   Troy TulowitzkiRussell MartinJose BautistaJosh...   \n",
       "\n",
       "                                                    POS     SALARY  \\\n",
       "TEAM                                                                 \n",
       "LAD   SP1BLFSP3BSPSPRPRFSP2BCSPRPRPLF2BRPLFRPSSLFCFR...  187989811   \n",
       "DET   1BSPLFSPDHSPRF2BRPSS3BRPC3BRPRPCSPRPRPSPLFSPCF...  180250600   \n",
       "TEX   DHSPRF3BSSCFSPSP1BSPCSPRPRPRPSPCRP2B2BRPRFRPRP...  178431396   \n",
       "SF    SPCSPSPRFSPCFRPSSSPSS1BRP2BCRP3BRPRP1B2BRPRPCR...  176531278   \n",
       "NYM   CF3B3B2BCFOFSSRPRP1BRPSPCFSPRPSSCCSPRPSPSPLFRP...  176284679   \n",
       "BOS   SP1BSP3B2BRPSPLF1BSSSPCFRPRPRPLFRPCRF2BSPSPSPR...  174287098   \n",
       "NYY   SPSPCFRP3BLFLF2BSPRPSS1BRPRPCFRPCSSSSCRPSPSP1B...  170389199   \n",
       "CHC   RFSP2BSPSPCPCF1BRPRPRPSPRPRP3BSPSSSS2BSPLFRPCCFCF  170088502   \n",
       "WSH   SPLFSP1BRFSP2BC3BRPSPCFRPRP2B1BCLFRPCFCFRPRPRP...  162742157   \n",
       "TOR   SSCRF3BSPSPSPDH1B1BSPRPRPRP2BCLFRPCFRPRP2B2BRP...  162353367   \n",
       "\n",
       "      START_YEAR  END_YEAR  YEARS  \n",
       "TEAM                               \n",
       "LAD        62501     62550     80  \n",
       "DET        52420     52457     63  \n",
       "TEX        68555     68593     72  \n",
       "SF         56451     56499     76  \n",
       "NYM        62511     62534     54  \n",
       "BOS        62510     62541     62  \n",
       "NYY        54439     54472     60  \n",
       "CHC        52429     52456     53  \n",
       "WSH        52421     52457     62  \n",
       "TOR        58478     58499     50  "
      ]
     },
     "execution_count": 13,
     "metadata": {},
     "output_type": "execute_result"
    }
   ],
   "source": [
    "#df.groupby('TEAM').sum()\n",
    "df[['TEAM', 'SALARY']].groupby('TEAM').sum().sort_values('SALARY', ascending=False).head(10) # Filtros encadeados"
   ]
  },
  {
   "cell_type": "code",
   "execution_count": 14,
   "metadata": {},
   "outputs": [],
   "source": [
    "df.to_csv('dataframe.csv', index=False) #index false é sem o index do pandas"
   ]
  }
 ],
 "metadata": {
  "kernelspec": {
   "display_name": "base",
   "language": "python",
   "name": "python3"
  },
  "language_info": {
   "codemirror_mode": {
    "name": "ipython",
    "version": 3
   },
   "file_extension": ".py",
   "mimetype": "text/x-python",
   "name": "python",
   "nbconvert_exporter": "python",
   "pygments_lexer": "ipython3",
   "version": "3.11.5"
  }
 },
 "nbformat": 4,
 "nbformat_minor": 2
}
