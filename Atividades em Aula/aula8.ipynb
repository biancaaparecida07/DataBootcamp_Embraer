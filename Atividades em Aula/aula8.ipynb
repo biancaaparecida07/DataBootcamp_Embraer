{
 "cells": [
  {
   "cell_type": "markdown",
   "metadata": {},
   "source": [
    "Importação"
   ]
  },
  {
   "cell_type": "code",
   "execution_count": 26,
   "metadata": {},
   "outputs": [
    {
     "name": "stdout",
     "output_type": "stream",
     "text": [
      "Requirement already satisfied: mysql-connector-python in c:\\users\\bianc\\anaconda3\\lib\\site-packages (8.2.0)\n",
      "Requirement already satisfied: protobuf<=4.21.12,>=4.21.1 in c:\\users\\bianc\\anaconda3\\lib\\site-packages (from mysql-connector-python) (4.21.12)\n"
     ]
    }
   ],
   "source": [
    "!pip install mysql-connector-python"
   ]
  },
  {
   "cell_type": "code",
   "execution_count": 27,
   "metadata": {},
   "outputs": [],
   "source": [
    "import mysql.connector"
   ]
  },
  {
   "cell_type": "code",
   "execution_count": 28,
   "metadata": {},
   "outputs": [],
   "source": [
    "import pandas as pd"
   ]
  },
  {
   "cell_type": "code",
   "execution_count": 29,
   "metadata": {},
   "outputs": [],
   "source": [
    "conexao = mysql.connector.Connect(\n",
    "    host = 'localhost',\n",
    "    user = 'root',\n",
    "    password = 'admin',\n",
    "    database = 'testeaulapython',\n",
    ")"
   ]
  },
  {
   "cell_type": "code",
   "execution_count": 30,
   "metadata": {},
   "outputs": [],
   "source": [
    "cursor = conexao.cursor()"
   ]
  },
  {
   "cell_type": "code",
   "execution_count": 31,
   "metadata": {},
   "outputs": [],
   "source": [
    "# Nome tabela de destino\n",
    "nome_Tabela = 'teamusa'\n",
    "consulta_sql = f\"SELECT * FROM {nome_Tabela}\"\n",
    "cursor.execute(consulta_sql) # Execução do script SQL"
   ]
  },
  {
   "cell_type": "markdown",
   "metadata": {},
   "source": [
    "Leitura dos registros do banco"
   ]
  },
  {
   "cell_type": "code",
   "execution_count": 32,
   "metadata": {},
   "outputs": [
    {
     "name": "stdout",
     "output_type": "stream",
     "text": [
      "                 name team pos    salary  star_year  end_year  years\n",
      "0     Clayton Kershaw  LAD  SP  33000000       2014      2020      7\n",
      "1        Zack Greinke  ARI  SP  31876966       2016      2021      6\n",
      "2         David Price  BOS  SP  30000000       2016      2022      7\n",
      "3      Miguel Cabrera  DET  1B  28000000       2014      2023     10\n",
      "4    Justin Verlander  DET  SP  28000000       2013      2019      7\n",
      "..                ...  ...  ..       ...        ...       ...    ...\n",
      "863      Steve Selsky  BOS  RF    535000       2017      2017      1\n",
      "864     Stuart Turner  CIN   C    535000       2017      2017      1\n",
      "865    Vicente Campos  LAA  RP    535000       2017      2017      1\n",
      "866     Wandy Peralta  CIN  RP    535000       2017      2017      1\n",
      "867        Yandy Diaz  CLE  3B    535000       2017      2017      1\n",
      "\n",
      "[868 rows x 7 columns]\n"
     ]
    }
   ],
   "source": [
    "dados = cursor.fetchall()\n",
    "colunas = [i[0] for i in cursor.description] # lendo quantas colunas tiverem\n",
    "df = pd.DataFrame(dados, columns=colunas)\n",
    "cursor.close() # Sempre fechar a conexão com o banco de dados\n",
    "conexao.close()\n",
    "print(df)\n"
   ]
  }
 ],
 "metadata": {
  "kernelspec": {
   "display_name": "base",
   "language": "python",
   "name": "python3"
  },
  "language_info": {
   "codemirror_mode": {
    "name": "ipython",
    "version": 3
   },
   "file_extension": ".py",
   "mimetype": "text/x-python",
   "name": "python",
   "nbconvert_exporter": "python",
   "pygments_lexer": "ipython3",
   "version": "3.11.5"
  }
 },
 "nbformat": 4,
 "nbformat_minor": 2
}
