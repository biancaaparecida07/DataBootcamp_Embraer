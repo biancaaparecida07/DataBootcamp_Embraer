{
 "cells": [
  {
   "cell_type": "markdown",
   "metadata": {},
   "source": [
    "Dados Randômicos"
   ]
  },
  {
   "cell_type": "code",
   "execution_count": 1,
   "metadata": {},
   "outputs": [],
   "source": [
    "#!pip install mysql-connector-python\n",
    "import mysql.connector\n",
    "from random import choice, randint"
   ]
  },
  {
   "cell_type": "code",
   "execution_count": 2,
   "metadata": {},
   "outputs": [],
   "source": [
    "db_config = {\n",
    "    'host' : 'localhost',\n",
    "    'username' : 'root',\n",
    "    'password' : 'admin',\n",
    "    'database' : 'testeaulapython'\n",
    "}"
   ]
  },
  {
   "cell_type": "code",
   "execution_count": 8,
   "metadata": {},
   "outputs": [],
   "source": [
    "conn = mysql.connector.connect(**db_config) # Conexão com os dados da configuração. Os asteríscos são para desenpacotar o dicionário.\n",
    "cursor = conn.cursor()\n",
    "\n",
    "# Query para criação de uma Tabela\n",
    "create_table_query = \"CREATE TABLE IF NOT EXISTS dados_aleatorios (id int auto_increment primary key, nome varchar(50), idade int, cidade varchar(50))\"\n",
    "\n",
    "cursor.execute(create_table_query)\n",
    "conn.commit() # Executa e valida essa criação da tabela"
   ]
  },
  {
   "cell_type": "code",
   "execution_count": 9,
   "metadata": {},
   "outputs": [],
   "source": [
    "nomes = ['Alice', 'Bob', 'Charlie', 'David', 'Emma', 'Frank', 'Grace', 'Hank']\n",
    "cidades = ['Nova York', 'Los Angeles', 'Chicago', 'Houston', 'Phoenix', 'Filadélfia']\n",
    "\n",
    "# Query para inserção dos dados na tabela\n",
    "for _ in range(2000):\n",
    "    nome = choice(nomes) # escolhe um nome dentro do vetor\n",
    "    idade = randint(18,99) # gera randomicamente números entre 18 e 99\n",
    "    cidade = choice(cidades)\n",
    "\n",
    "    \n",
    "    insert_query = \"INSERT INTO dados_aleatorios (nome, idade, cidade) VALUES (%s, %s, %s)\"\n",
    "    data = (nome, idade, cidade)\n",
    "    cursor.execute(insert_query, data)\n",
    "\n",
    "conn.commit()\n",
    "\n",
    "cursor.close()\n",
    "conn.close()"
   ]
  },
  {
   "cell_type": "markdown",
   "metadata": {},
   "source": [
    "Recuperar dados da Tabela dados_aleatorios no MySQL"
   ]
  },
  {
   "cell_type": "code",
   "execution_count": null,
   "metadata": {},
   "outputs": [],
   "source": [
    "import mysql.connector\n",
    "import pandas as pd\n",
    "\n",
    "db_config = {\n",
    "    'host' : 'localhost',\n",
    "    'username' : 'root',\n",
    "    'password' : 'admin',\n",
    "    'database' : 'testeaulapython'\n",
    "}\n",
    "\n",
    "conn = mysql.connector.connect(**db_config) # Conexão com os dados da configuração. Os asteríscos são para desenpacotar o dicionário.\n",
    "cursor = conn.cursor()\n",
    "select_query = \"SELECT * FROM dados_aleatorios\"\n",
    "df = pd.read_sql(select_query,conn)\n",
    "\n",
    "conn.close()\n",
    "\n",
    "print(df)"
   ]
  }
 ],
 "metadata": {
  "kernelspec": {
   "display_name": "base",
   "language": "python",
   "name": "python3"
  },
  "language_info": {
   "codemirror_mode": {
    "name": "ipython",
    "version": 3
   },
   "file_extension": ".py",
   "mimetype": "text/x-python",
   "name": "python",
   "nbconvert_exporter": "python",
   "pygments_lexer": "ipython3",
   "version": "3.11.5"
  }
 },
 "nbformat": 4,
 "nbformat_minor": 2
}
