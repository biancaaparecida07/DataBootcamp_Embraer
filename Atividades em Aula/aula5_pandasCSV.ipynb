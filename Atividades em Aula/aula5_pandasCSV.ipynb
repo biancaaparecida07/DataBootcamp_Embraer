{
 "cells": [
  {
   "cell_type": "code",
   "execution_count": 2,
   "metadata": {},
   "outputs": [],
   "source": [
    "import pandas as pd "
   ]
  },
  {
   "cell_type": "code",
   "execution_count": 4,
   "metadata": {},
   "outputs": [],
   "source": [
    "import requests\n",
    "from io import StringIO"
   ]
  },
  {
   "cell_type": "code",
   "execution_count": 5,
   "metadata": {},
   "outputs": [],
   "source": [
    "url = 'https://raw.githubusercontent.com/escola-de-dados/notebooks-python-pandas/master/mlb.csv'"
   ]
  },
  {
   "cell_type": "markdown",
   "metadata": {},
   "source": [
    "Lendo um arquivo .CSV e armazenando/transformando em um DataFrame"
   ]
  },
  {
   "cell_type": "code",
   "execution_count": null,
   "metadata": {},
   "outputs": [],
   "source": [
    "try:\n",
    "    response = requests.get(url)\n",
    "    response.raise_for_status() #Lança uma exceção/erro em caso de erro http\n",
    "\n",
    "    #Usar StringIO para ler os dados como se fossem de um arquivo. \n",
    "    df = pd.read_csv(StringIO(response.text))\n",
    "\n",
    "    # Exibir as primeiras linhas/registros do DataFrame\n",
    "    print('Primeiras linhas do DataFrame:')\n",
    "    print(df.head()) #exibe os primeiros 5 regitros\n",
    "except requests.exceptions.RequestException as e: \n",
    "    print(f'Erro ao ler o arquivo .csv: {e}')"
   ]
  },
  {
   "cell_type": "code",
   "execution_count": null,
   "metadata": {},
   "outputs": [],
   "source": [
    "df.describe() #Retorna algumas estatísticas"
   ]
  },
  {
   "cell_type": "code",
   "execution_count": null,
   "metadata": {},
   "outputs": [],
   "source": [
    "df.tail() #últimas linhas, possibilitando saber quantos registros. "
   ]
  },
  {
   "cell_type": "code",
   "execution_count": null,
   "metadata": {},
   "outputs": [],
   "source": [
    "df.sample(7) #Retorna linhas aleatórias, nesse caso, 7 registros"
   ]
  },
  {
   "cell_type": "code",
   "execution_count": null,
   "metadata": {},
   "outputs": [],
   "source": [
    "df.shape #não é função... exibe a quantidade de linhas e colunas"
   ]
  },
  {
   "cell_type": "code",
   "execution_count": null,
   "metadata": {},
   "outputs": [],
   "source": [
    "df.dtypes #nome das colunas e tipo de dados"
   ]
  },
  {
   "cell_type": "markdown",
   "metadata": {},
   "source": [
    "Ordenando os dados"
   ]
  },
  {
   "cell_type": "code",
   "execution_count": null,
   "metadata": {},
   "outputs": [],
   "source": [
    "df.sort_values('SALARY') #exibe os 5 primeiros e os 5  últimos sem filtro algum"
   ]
  },
  {
   "cell_type": "code",
   "execution_count": null,
   "metadata": {},
   "outputs": [],
   "source": [
    "df.sort_values('SALARY', ascending=False) #Filtrando por salário, exibindo os 5 primeiros e os 5 últimos sendo que o filtro foi pelo salário do maior para o menor."
   ]
  },
  {
   "cell_type": "code",
   "execution_count": null,
   "metadata": {},
   "outputs": [],
   "source": [
    "df.sort_values('SALARY', ascending=False).head() #Exibe, com filtro de salário, apenas os 5 primeiros com o uso do head. "
   ]
  },
  {
   "cell_type": "code",
   "execution_count": null,
   "metadata": {},
   "outputs": [],
   "source": [
    "df[df.SALARY > 100000000]\n",
    "\n",
    "# select * from tabelaTime where SALARY> 100000000"
   ]
  },
  {
   "cell_type": "code",
   "execution_count": null,
   "metadata": {},
   "outputs": [],
   "source": [
    "df.sort_values(['SALARY', 'END_YEAR'], ascending=[False, True]).head(10)\n",
    "#Filtro por mais de um parâmetro, por salário e por time, sendo q o salario é pra ordenar do maior pro menor e o ano final em ordem crescente.\n",
    "#Porém o salário, que vem primeiro, é mandatório. Se tivermos 2 salários iguais, virá primeiro o de menor ano devido o filtro pedir ordem crescente de ano."
   ]
  }
 ],
 "metadata": {
  "kernelspec": {
   "display_name": "base",
   "language": "python",
   "name": "python3"
  },
  "language_info": {
   "codemirror_mode": {
    "name": "ipython",
    "version": 3
   },
   "file_extension": ".py",
   "mimetype": "text/x-python",
   "name": "python",
   "nbconvert_exporter": "python",
   "pygments_lexer": "ipython3",
   "version": "3.11.5"
  }
 },
 "nbformat": 4,
 "nbformat_minor": 2
}
