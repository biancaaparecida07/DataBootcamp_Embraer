{
 "cells": [
  {
   "cell_type": "markdown",
   "metadata": {},
   "source": [
    "## Tratamento de Dados"
   ]
  },
  {
   "cell_type": "code",
   "execution_count": 3,
   "metadata": {},
   "outputs": [],
   "source": [
    "import pandas as pd"
   ]
  },
  {
   "cell_type": "code",
   "execution_count": 4,
   "metadata": {},
   "outputs": [],
   "source": [
    "data1 = {\n",
    "    'A' : [1,2,None,4,5],\n",
    "    'B' : [10,None,30,40,50]\n",
    "}\n",
    "\n",
    "df = pd.DataFrame(data1)"
   ]
  },
  {
   "cell_type": "code",
   "execution_count": null,
   "metadata": {},
   "outputs": [],
   "source": [
    "df"
   ]
  },
  {
   "cell_type": "code",
   "execution_count": null,
   "metadata": {},
   "outputs": [],
   "source": [
    "# Preencher valores ausentes (NAN) com a média de cada coluna\n",
    "df.fillna(df.mean(), inplace=True) # Função fillna preenche valores ausentes, NAN. Tem como parâmetro o valor que quer que preencha. \n",
    "df"
   ]
  },
  {
   "cell_type": "code",
   "execution_count": null,
   "metadata": {},
   "outputs": [],
   "source": [
    "data2 = {\n",
    "    'A' : [1,2,None,4,5],\n",
    "    'B' : [10,None,30,40,50]\n",
    "}\n",
    "\n",
    "df = pd.DataFrame(data2)\n",
    "df"
   ]
  },
  {
   "cell_type": "code",
   "execution_count": null,
   "metadata": {},
   "outputs": [],
   "source": [
    "#Remover linhas com pelo menos um valor ausente.\n",
    "\n",
    "#inplace=True modifica o DataFrame diretamente e não retornar uma cópia \n",
    "df.dropna(inplace=True)\n",
    "df"
   ]
  },
  {
   "cell_type": "code",
   "execution_count": null,
   "metadata": {},
   "outputs": [],
   "source": [
    "data3 = {\n",
    "    'A' : [1,2,None,4,5],\n",
    "    'B' : [10,None,30,40,50]\n",
    "}\n",
    "\n",
    "df = pd.DataFrame(data3)\n",
    "df"
   ]
  },
  {
   "cell_type": "code",
   "execution_count": null,
   "metadata": {},
   "outputs": [],
   "source": [
    "# Preencher valores ausentes (NAN) com valor específico (por exemplo, -1)\n",
    "df.fillna(-1, inplace=True) # Função fillna preenche valores ausentes, NAN. Tem como parâmetro o valor que quer que preencha. \n",
    "df"
   ]
  },
  {
   "cell_type": "code",
   "execution_count": null,
   "metadata": {},
   "outputs": [],
   "source": [
    "totalNAN = df.isna().sum() #Retorna o número de NAN por coluna\n",
    "totalNAN = df.isna().sum().sum() #Retorna o número total de NAN\n",
    "totalNAN"
   ]
  },
  {
   "cell_type": "code",
   "execution_count": null,
   "metadata": {},
   "outputs": [],
   "source": [
    "# Substituir NAN apenas em uma coluna específica:\n",
    "\n",
    "data4 = {\n",
    "    'A' : [1,2,None,4,5],\n",
    "    'B' : [10,None,30,40,50]\n",
    "}\n",
    "\n",
    "df = pd.DataFrame(data4)\n",
    "\n",
    "df['B'].fillna(-1, inplace=True)\n",
    "df\n"
   ]
  },
  {
   "cell_type": "code",
   "execution_count": null,
   "metadata": {},
   "outputs": [],
   "source": [
    "data5 = {\n",
    "    'A' : [1,2,None,4,5],\n",
    "    'B' : [10,None,30,40,50]\n",
    "}\n",
    "\n",
    "df = pd.DataFrame(data5)\n",
    "df"
   ]
  },
  {
   "cell_type": "code",
   "execution_count": null,
   "metadata": {},
   "outputs": [],
   "source": [
    "# Preencher valores ausentes usando outros métodos específicos\n",
    "\n",
    "df['A'].fillna(df['A'].median(), inplace=True)\n",
    "\n",
    "df['B'].fillna(df['B'].ffill(), inplace=True) #Preenchendo a frente com o valor que tem atrás (forward fill)\n",
    "\n",
    "df"
   ]
  },
  {
   "cell_type": "code",
   "execution_count": null,
   "metadata": {},
   "outputs": [],
   "source": [
    "# Dados duplicados\n",
    "\n",
    "data6 = {\n",
    "    'A' : [1,2,3,2,2,6],\n",
    "    'B' : [10,20,30,10,50,60]\n",
    "}\n",
    "\n",
    "df = pd.DataFrame(data6)\n",
    "df"
   ]
  },
  {
   "cell_type": "code",
   "execution_count": null,
   "metadata": {},
   "outputs": [],
   "source": [
    "# Mostra apenas quais colunas estão duplicadas\n",
    "duplicadas = df[df.duplicated()]\n",
    "#duplicadas\n",
    "\n",
    "# Mostra quais valores estão duplicados e quantas vezes a mais ele aparece. \n",
    "valoresDuplicados = df['A'][df['A'].duplicated()].value_counts() \n",
    "print(valoresDuplicados)"
   ]
  },
  {
   "cell_type": "code",
   "execution_count": 46,
   "metadata": {},
   "outputs": [],
   "source": [
    "# Remover valores duplicados\n",
    "data7 = {\n",
    "    'A' : [1,2,3,4,2,6,8,9,2,5,2],\n",
    "    'B' : [10,20,30,10,50,60,70,67,34,56,89]\n",
    "}\n",
    "\n",
    "df = pd.DataFrame(data7)\n",
    "\n",
    "# # Remove as duplicadas mas remove por linha, a linha toda precisa estar duplicada. \n",
    "# removeDuplicadas = df.drop_duplicates()\n",
    "# removeDuplicadas\n"
   ]
  },
  {
   "cell_type": "code",
   "execution_count": null,
   "metadata": {},
   "outputs": [],
   "source": [
    "# Remove duplicadas por Coluna\n",
    "removeDuplicadasA = df.drop_duplicates(subset='A') #Remove todas as linhas onde os valores se repetem na coluna A\n",
    "removeDuplicadasA"
   ]
  }
 ],
 "metadata": {
  "kernelspec": {
   "display_name": "base",
   "language": "python",
   "name": "python3"
  },
  "language_info": {
   "codemirror_mode": {
    "name": "ipython",
    "version": 3
   },
   "file_extension": ".py",
   "mimetype": "text/x-python",
   "name": "python",
   "nbconvert_exporter": "python",
   "pygments_lexer": "ipython3",
   "version": "3.11.5"
  }
 },
 "nbformat": 4,
 "nbformat_minor": 2
}
