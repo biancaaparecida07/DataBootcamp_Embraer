{
 "cells": [
  {
   "cell_type": "markdown",
   "metadata": {},
   "source": [
    "# Lista de Exercícios - Livro: Python - Guia Prático para Iniciantes \n",
    "Autor: Gabriel Schade Cardoso\n",
    "\n",
    "Sugerido pela Marianne Salomão no Data Bootcamp - Embraer Social Tech Careers  \n",
    "\n",
    "Feito em arquivo .ipynb e a solução de cada exercício está por completo em uma célula, sendo assim, o comando de Run deve ser feito em cada célula separadamente para conferir as soluções. \n"
   ]
  },
  {
   "cell_type": "markdown",
   "metadata": {},
   "source": [
    "#### **Começando com Python** \n",
    "\n",
    "1. Faça um algoritmo que solicite um número ao usuário  \n",
    "2. Faça um algoritmo que solicite o nome do usuário e depois escreva o nome da pessoa no console.  \n",
    "3. Faça um algoritmo que pergunte ao usuário quantos anos ele tem, depois disso, escreva True no console, caso ele já tenha alcançado a maioridade (18 anos), caso contrário escreva False.  \n",
    "4. Faça um algoritmo que solicite um número ao usuário, depois disso, escreva True no console, caso o número tenha dois dígitos (Esteja entre 10 e 99), caso contrário escreva False.  "
   ]
  },
  {
   "cell_type": "code",
   "execution_count": null,
   "metadata": {},
   "outputs": [],
   "source": [
    "numero = int(input('Digite um número inteiro:'))"
   ]
  },
  {
   "cell_type": "code",
   "execution_count": null,
   "metadata": {},
   "outputs": [],
   "source": [
    "nome = input('Digite seu nome:')\n",
    "nome"
   ]
  },
  {
   "cell_type": "code",
   "execution_count": null,
   "metadata": {},
   "outputs": [],
   "source": [
    "idade = int(input('Digite sua idade:'))\n",
    "if idade>=18:\n",
    "    print(True)\n",
    "else:\n",
    "    print(False)"
   ]
  },
  {
   "cell_type": "markdown",
   "metadata": {},
   "source": [
    "Solução opcional"
   ]
  },
  {
   "cell_type": "code",
   "execution_count": null,
   "metadata": {},
   "outputs": [],
   "source": [
    "idade = int(input('Digite sua idade:'))\n",
    "maior = idade>=18\n",
    "print (maior)"
   ]
  },
  {
   "cell_type": "code",
   "execution_count": null,
   "metadata": {},
   "outputs": [],
   "source": [
    "numero = int(input('Digite um número:'))\n",
    "if numero>=10 and numero<=99:\n",
    "    print(True)\n",
    "else:\n",
    "    print(False)"
   ]
  },
  {
   "cell_type": "markdown",
   "metadata": {},
   "source": [
    "#### **Condicionais** \n",
    "\n",
    "1. Faça um algoritmo que solicite 3 notas para o usuário, calcule a média e indique se o aluno foi aprovado ou reprovado (nota precisar ser maior ou igual à sete para o aluno ser aprovado).  \n",
    "2. Faça um algoritmo que solicite o ano que o usuário nasceu, depois disso, faça o programa descrever se o usuário fará ou já fez 18 anos neste ano.  \n",
    "3. Faça um programa que solicite ao usuário sua idade, depois disso, exiba a classificação etária de acordo com as faixas de valores:  \n",
    "- Criança para 0 até 11 anos;  \n",
    "- Adolescente para 12 até 18 anos;  \n",
    "- Jovem para 19 até 24 anos;  \n",
    "- Adulto para 25 até 40 anos;  \n",
    "- Meia Idade para 41 até 60 anos;  \n",
    "- Idoso acima de 60 anos.  \n",
    "4. Faça um programa que solicite ao usuário 2 valores, utilize uma condição ternária para escrever qual o maior valor: o primeiro ou o segundo (caso os valores sejam iguais, considere o segundo)."
   ]
  },
  {
   "cell_type": "code",
   "execution_count": null,
   "metadata": {},
   "outputs": [],
   "source": [
    "nota1 = float(input(\"Digite a nota:\"))\n",
    "nota2 = float(input(\"Digite a nota:\"))\n",
    "nota3 = float(input(\"Digite a nota:\"))\n",
    "media = (nota1+nota2+nota3)/3\n",
    "if media >= 7:\n",
    "    print('Aprovado')\n",
    "else:\n",
    "    print('Reprovado')"
   ]
  },
  {
   "cell_type": "code",
   "execution_count": null,
   "metadata": {},
   "outputs": [],
   "source": [
    "ano = int(input(\"Digite seu ano de nascimento:\"))\n",
    "if (ano+18)>2023:\n",
    "    print('Fará')\n",
    "else:\n",
    "    print(\"Já fez\")"
   ]
  },
  {
   "cell_type": "code",
   "execution_count": null,
   "metadata": {},
   "outputs": [],
   "source": [
    "idade = int(input('Digite sua idade:'))\n",
    "if idade <=11:\n",
    "    print ('Criança')\n",
    "elif (idade > 11 and idade <= 18):\n",
    "    print ('Adolescente')\n",
    "elif (idade > 18 and idade <= 24):\n",
    "    print ('Jovem')\n",
    "elif (idade > 24 and idade <= 40):\n",
    "    print ('Adulto')\n",
    "elif (idade > 24 and idade <= 40):\n",
    "    print ('Meia Idade')\n",
    "else:\n",
    "    print('Idoso')"
   ]
  },
  {
   "cell_type": "code",
   "execution_count": null,
   "metadata": {},
   "outputs": [],
   "source": [
    "#Uso de condição ternária\n",
    "a = int(input('Digite um número:'))\n",
    "b = int(input('Digite um número:'))\n",
    "#primeiro vem o resultado do if, e por último o resultado do else.\n",
    "print (a if a>b else b)\n",
    "\n"
   ]
  },
  {
   "cell_type": "markdown",
   "metadata": {},
   "source": [
    "#### **Valores None, Strings e Listas** \n",
    "1. Faça um programa que solicite o nome do usuário e depois disso faça uma saudação no formato: \"Olá {nome digitado pelo usuário}\"  \n",
    "2. Faça um programa que solicite uma mensagem qualquer para o usuário e exiba esta mensagem com todas as letras em maiúsculo.  \n",
    "3. Faça um programa que solicite a idade do usuário, verifique se o texto informado só contém números. Caso contenha somente números exiba a mensagem: \"Você tem {idade digitada} anos.\", caso contrário exiba a mensagem: \"Você digitou uma idade inválida\".  \n",
    "4. Faça um programa que solicite o nome completo do usuário e exiba somente o seu segundo nome/primeiro sobrenome.  "
   ]
  },
  {
   "cell_type": "markdown",
   "metadata": {},
   "source": [
    "Função Capitalize: Torna a primeira letra maiúscula.  \n",
    "Função replace: Substitui caracteres.\n",
    "``` python\n",
    "nome = 'Bianca' \n",
    "print (nome.capitalize()) #Bianca\n",
    "print (nome.replace('a','e')) #Bience\n",
    "```\n",
    "\n",
    "Interpolação - Template String - Print de texto e variável. \n",
    "``` python\n",
    "nome = 'bianca'\n",
    "mensagem = f\"Olá, {nome.capitalize()}\"\n",
    "print(mensagem) # -> Olá Bianca\n",
    "\n",
    "# O mesmo que:\n",
    "print(f'Olá, {nome.capitalize()}')\n",
    "```\n",
    "\n",
    "Função Split: Quebra a string em fragmentos, quebra a partir de um caractere separador e se torna um vetor de strings menores.\n",
    "``` python\n",
    "nomes = 'Bianca Ana Joana Maria'\n",
    "print (nomes.split(' ')) # ['Bianca', 'Ana', 'Joana', 'Maria']\n",
    "```"
   ]
  },
  {
   "cell_type": "code",
   "execution_count": null,
   "metadata": {},
   "outputs": [],
   "source": [
    "nome = input('Digite seu nome:')\n",
    "print(f'Olá, {nome}')"
   ]
  },
  {
   "cell_type": "code",
   "execution_count": null,
   "metadata": {},
   "outputs": [],
   "source": [
    "mensagem= input('Digite a mensagem:') #bianca\n",
    "print(mensagem.upper()) #BIANCA"
   ]
  },
  {
   "cell_type": "code",
   "execution_count": null,
   "metadata": {},
   "outputs": [],
   "source": [
    "idade = input('Digite sua idade:')\n",
    "if idade.isdigit(): #Função isDigit verifica se a string contém apenas números.\n",
    "    print(f'Você tem {idade} anos')\n",
    "else:\n",
    "    print(\"Você digitou uma idade inválida\")"
   ]
  },
  {
   "cell_type": "code",
   "execution_count": null,
   "metadata": {},
   "outputs": [],
   "source": [
    "nome = input('Digite seu nome:')\n",
    "print (f\"O primeiro sobrenome é: {(nome.split(' '))[1]}\")"
   ]
  },
  {
   "cell_type": "markdown",
   "metadata": {},
   "source": [
    "#### **Listas** \n",
    "\n",
    "1. Faça um programa que inicialize uma lista com o nome das pessoas da sua família.\n",
    "2. Faça um programa que inicialize uma lista vazia e solicite ao usuário 3 nomes de cidades, um por vez, cada vez que o usuário digitar um nome, o programa deve incluir este nome na lista de cidades.\n",
    "3. Faça um programa que inicialize uma lista com vários números diferentes, depois disso, solicite ao usuário um número, verifique se o número está ou não na lista e exiba uma mensagem notificando o usuário do resultado.\n",
    "4. Faça um programa que inicialize uma lista vazia e a preencha com 5 nomes digitados pelo usuário, depois disso solicite um número de 0 até 4 e remova o elemento desta posição."
   ]
  },
  {
   "cell_type": "code",
   "execution_count": null,
   "metadata": {},
   "outputs": [],
   "source": [
    "familia = ['Bianca', 'Matheus', 'Eliana', 'Vladimir']"
   ]
  },
  {
   "cell_type": "code",
   "execution_count": null,
   "metadata": {},
   "outputs": [],
   "source": [
    "cidades = []\n",
    "cidade1 = input('Digite um número:')\n",
    "cidades.append(cidade1)\n",
    "cidade2 = input('Digite um número:')\n",
    "cidades.append(cidade2)\n",
    "cidade3 = input('Digite um número:')\n",
    "cidades.append(cidade3)\n",
    "print(cidades)\n"
   ]
  },
  {
   "cell_type": "code",
   "execution_count": null,
   "metadata": {},
   "outputs": [],
   "source": [
    "numeros = [2,6,9,15,3,4,21]\n",
    "numero = int(input('Digite um número:'))\n",
    "if numero in numeros:\n",
    "    print('O número está na lista')\n",
    "else:\n",
    "    print('O número não está na lista')"
   ]
  },
  {
   "cell_type": "code",
   "execution_count": null,
   "metadata": {},
   "outputs": [],
   "source": [
    "nomes  = []\n",
    "\n",
    "nomes.append(input('Digite um nome:'))\n",
    "nomes.append(input('Digite um nome:'))\n",
    "nomes.append(input('Digite um nome:'))\n",
    "nomes.append(input('Digite um nome:'))\n",
    "nomes.append(input('Digite um nome:'))\n",
    "\n",
    "numero = int(input('Digite um número entre 0 e 4:'))\n",
    "del nomes[numero] #excluindo nome do índice [numero_digitado] da lista de nomes\n",
    "nomes"
   ]
  },
  {
   "cell_type": "markdown",
   "metadata": {},
   "source": [
    "#### **Laços de Repetição I** \n",
    "\n",
    "1. Faça um programa que inicialize uma lista de compras com 5 itens diferentes e exiba todos utilizando um laço de repetição.\n",
    "2. Faça um programa que inicialize que crie uma lista com os valores de 1 até 10 e depois exiba apenas os números pares.\n",
    "3. Faça um programa que exiba todos os valores ímpares entre 50 e 100 utilizando o range.\n",
    "4. Faça um programa que inicialize uma lista vazia, solicite ao usuário 10 números diferentes, um por vez. Caso o número digitado seja par, acrescente um ao seu valor. Depois disso, exiba os 10 números digitados.\n",
    "5. Faça um programa que exiba as tabuadas de 1 até 10 no formato: \"2 x 3 = 6\", (utilize dois comandos for)  \n",
    "\n",
    "Exemplos de Laços:  \n",
    "``` python\n",
    "for numero in numeros:\n",
    "    print (numero)\n",
    "\n",
    "valor = 0\n",
    "for indice in range(5): # Conta o range de 0 a 4\n",
    "    valor += 10\n",
    "    print(valor)\n",
    "\n",
    "for valor in range(5, 10): # Conta o range de 5 a 9\n",
    "    print(valor)\n",
    "\n",
    "for valor in range(0, 10, 2): # Conta o range de 0 a 9 saltando de 2 em 2\n",
    "    print(valor)\n",
    "```"
   ]
  },
  {
   "cell_type": "code",
   "execution_count": null,
   "metadata": {},
   "outputs": [],
   "source": [
    "compras = ['Cebola', 'Arroz', 'Tomate', 'Feijão', 'Café']\n",
    "for compra in compras:\n",
    "    print(compra)"
   ]
  },
  {
   "cell_type": "code",
   "execution_count": null,
   "metadata": {},
   "outputs": [],
   "source": [
    "numeros = []\n",
    "for numero in range (1,11):\n",
    "    numeros.append(numero)\n",
    "\n",
    "for numero in range (0,11, 2):\n",
    "    print(numero)"
   ]
  },
  {
   "cell_type": "code",
   "execution_count": null,
   "metadata": {},
   "outputs": [],
   "source": [
    "for valor in range(51, 101, 2): # Conta o range de 0 a 9 saltando de 2 em 2\n",
    "    print(valor)"
   ]
  },
  {
   "cell_type": "code",
   "execution_count": null,
   "metadata": {},
   "outputs": [],
   "source": [
    "numeros = []\n",
    "for i in range(10):\n",
    "    numero = int(input('Digite um número:'))\n",
    "    if numero%2==0:\n",
    "        numeros.append(numero+1)\n",
    "    else:\n",
    "        numeros.append(numero)\n",
    "numeros"
   ]
  },
  {
   "cell_type": "code",
   "execution_count": null,
   "metadata": {},
   "outputs": [],
   "source": [
    "for i in range(1,11):\n",
    "    for j in range (1,11):\n",
    "        resultado = i*j\n",
    "        print(f\"{i} x {j} = {resultado}\")"
   ]
  },
  {
   "cell_type": "markdown",
   "metadata": {},
   "source": [
    "#### **Laços de Repetição II** \n",
    "\n",
    "1. Faça um programa que inicialize uma lista de compras com 5 itens diferentes e exiba todos utilizando um laço de repetição while.\n",
    "2. Faça um programa que inicialize uma lista com os valores de 1 até 10 e depois exiba apenas os números pares utilizando while.\n",
    "3. Faça um programa que inicialize uma lista vazia, solicite ao usuário 10 números ímpares, um por vez. Caso o número digitado seja par, solicite novamente um número, até que o valor seja um número ímpar. Depois disso, exiba os 10 números digitados.\n",
    "4. Faça um programa que exiba um menu para o usuário selecionar uma das três opções:\n",
    "- 1 - Olá mundo\n",
    "- 2 - Eu programo em Python\n",
    "- 3 - Laços de repetição  \n",
    "O programa deve solicitar ao usuário uma das 3 opções, caso o usuário digite um valor diferente das opções (1, 2 ou 3), o programa deve apresentar novamente o menu de opções até que uma delas seja escolhida. Por fim, o programa deve exibir uma mensagem diferente para cada opção.\n",
    "\n",
    "Exemplos de Laços:\n",
    "``` python\n",
    "posicao = 0\n",
    "while posicao < len(numeros):\n",
    "    print(numeros[posicao])\n",
    "    posicao += 1\n",
    "\n",
    "posicao = 0\n",
    "while posicao < len(numeros):\n",
    "    print(numeros[posicao])\n",
    "\n",
    "posicao = 0\n",
    "while posicao < len(numeros):\n",
    "    posicao += 1\n",
    "    if posicao == 5:\n",
    "        break\n",
    "    print(numeros[posicao-1])\n",
    "```"
   ]
  },
  {
   "cell_type": "code",
   "execution_count": null,
   "metadata": {},
   "outputs": [],
   "source": [
    "compras = ['Cebola', 'Arroz', 'Tomate', 'Feijão', 'Café']\n",
    "posicao = 0\n",
    "while posicao < len(compras):\n",
    "    print(compras[posicao])\n",
    "    posicao+=1"
   ]
  },
  {
   "cell_type": "code",
   "execution_count": null,
   "metadata": {},
   "outputs": [],
   "source": [
    "numeros = [1,2,3,4,5,6,7,8,9,10]\n",
    "posicao = 0\n",
    "while posicao < len(numeros):\n",
    "    if(numeros[posicao]%2==0):\n",
    "        print(numeros[posicao])\n",
    "    posicao+=1"
   ]
  },
  {
   "cell_type": "code",
   "execution_count": null,
   "metadata": {},
   "outputs": [],
   "source": [
    "impares = []\n",
    "for i in range (1,4):\n",
    "    numero = int(input ('Digite um número ímpar:'))\n",
    "    while(numero%2==0):\n",
    "        numero = int(input ('Digite um número ímpar:'))\n",
    "    impares.append(numero)   \n",
    "print(impares)"
   ]
  },
  {
   "cell_type": "code",
   "execution_count": null,
   "metadata": {},
   "outputs": [],
   "source": [
    "menu = '1 - Olá mundo\\n2 - Eu programo em Python\\n3 - Laços de repetição'\n",
    "print(menu)\n",
    "opcao = int(input('Digite uma opção:'))\n",
    "while ((opcao != 1)and (opcao != 2)and (opcao != 3)):\n",
    "    print(menu)\n",
    "    opcao = int(input('Opção inválida. Digite uma opção do menu:'))\n",
    "if opcao == 1:\n",
    "    print('Olá mundo!')\n",
    "elif opcao == 2:\n",
    "    print ('Eu programo em Python')\n",
    "else:\n",
    "    print('Laços de Repetição')"
   ]
  }
 ],
 "metadata": {
  "kernelspec": {
   "display_name": "Python 3",
   "language": "python",
   "name": "python3"
  },
  "language_info": {
   "codemirror_mode": {
    "name": "ipython",
    "version": 3
   },
   "file_extension": ".py",
   "mimetype": "text/x-python",
   "name": "python",
   "nbconvert_exporter": "python",
   "pygments_lexer": "ipython3",
   "version": "3.11.5"
  }
 },
 "nbformat": 4,
 "nbformat_minor": 2
}
